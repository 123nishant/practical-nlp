{
  "nbformat": 4,
  "nbformat_minor": 0,
  "metadata": {
    "colab": {
      "name": "Data_Augmentation_Using_NLPaug.ipynb",
      "provenance": []
    },
    "kernelspec": {
      "name": "python3",
      "display_name": "Python 3"
    }
  },
  "cells": [
    {
      "cell_type": "markdown",
      "metadata": {
        "id": "yavI9mt4gayF",
        "colab_type": "text"
      },
      "source": [
        "##Data Augmentation using NLPaug\n",
        "\n",
        "This notebook demostrate the usage of a character augmenter, word augmenter. There are other types such as augmentation for sentences, audio, spectrogram inputs etc. All of the types many before mentioned types and many more can be found at the [github repo](https://github.com/makcedward/nlpaug) and [docs](https://nlpaug.readthedocs.io/en/latest/) of nlpaug."
      ]
    },
    {
      "cell_type": "code",
      "metadata": {
        "id": "cF5zJdr-kAPY",
        "colab_type": "code",
        "outputId": "e6a97d20-5439-4edc-d1d5-9e510be177d4",
        "colab": {
          "base_uri": "https://localhost:8080/",
          "height": 104
        }
      },
      "source": [
        "#Installing the nlpaug package\n",
        "!pip install nlpaug==0.0.14"
      ],
      "execution_count": 0,
      "outputs": [
        {
          "output_type": "stream",
          "text": [
            "Collecting nlpaug\n",
            "\u001b[?25l  Downloading https://files.pythonhosted.org/packages/1f/6c/ca85b6bd29926561229e8c9f677c36c65db9ef1947bfc175e6641bc82ace/nlpaug-0.0.14-py3-none-any.whl (101kB)\n",
            "\r\u001b[K     |███▎                            | 10kB 18.2MB/s eta 0:00:01\r\u001b[K     |██████▌                         | 20kB 6.7MB/s eta 0:00:01\r\u001b[K     |█████████▊                      | 30kB 7.9MB/s eta 0:00:01\r\u001b[K     |█████████████                   | 40kB 8.5MB/s eta 0:00:01\r\u001b[K     |████████████████▏               | 51kB 7.1MB/s eta 0:00:01\r\u001b[K     |███████████████████▍            | 61kB 7.4MB/s eta 0:00:01\r\u001b[K     |██████████████████████▋         | 71kB 8.0MB/s eta 0:00:01\r\u001b[K     |█████████████████████████▉      | 81kB 8.5MB/s eta 0:00:01\r\u001b[K     |█████████████████████████████   | 92kB 7.9MB/s eta 0:00:01\r\u001b[K     |████████████████████████████████| 102kB 4.9MB/s \n",
            "\u001b[?25hInstalling collected packages: nlpaug\n",
            "Successfully installed nlpaug-0.0.14\n"
          ],
          "name": "stdout"
        }
      ]
    },
    {
      "cell_type": "code",
      "metadata": {
        "id": "8yhkOl3cgZ28",
        "colab_type": "code",
        "colab": {}
      },
      "source": [
        "#this will be the base text which we will be using throughout this notebook\n",
        "text=\"The quick brown fox jumps over the lazy dog .\""
      ],
      "execution_count": 0,
      "outputs": []
    },
    {
      "cell_type": "markdown",
      "metadata": {
        "id": "-Xo3CzNhh-zU",
        "colab_type": "text"
      },
      "source": [
        "### Augmentation at the Character Level\n",
        "\n",
        "\n",
        "1.   OCR Augmenter: To read textual data from on image, we need an OCR(optical character recognition) model. Once the text is extracted from the image, there may be errors like; '0' instead of an 'o', '2' instead of 'z' and other such similar errors.  \n",
        "2.   Keyboard Augmenter: While typing/texting typos are fairly common this augmenter simulates the errors by substituting characters in words with ones at a similar distance on a keyboard.\n",
        "\n"
      ]
    },
    {
      "cell_type": "code",
      "metadata": {
        "id": "lfAaokTmjzak",
        "colab_type": "code",
        "outputId": "b362299f-b4db-4281-8222-a6b048d5deec",
        "colab": {
          "base_uri": "https://localhost:8080/",
          "height": 86
        }
      },
      "source": [
        "#OCR augmenter\n",
        "import nlpaug.augmenter.char as nac\n",
        "\n",
        "aug = nac.OcrAug()  \n",
        "augmented_texts = aug.augment(text, n=3) #specifying n=3 gives us only 3 augmented versions of the sentence.\n",
        "\n",
        "print(\"Original:\")\n",
        "print(text)\n",
        "\n",
        "print(\"Augmented Texts:\")\n",
        "print(augmented_texts)"
      ],
      "execution_count": 0,
      "outputs": [
        {
          "output_type": "stream",
          "text": [
            "Original:\n",
            "The quick brown fox jumps over the lazy dog .\n",
            "Augmented Texts:\n",
            "['The qoick bruwn fox jumps over the lazy dog .', 'The qoick brown fux jumps over the lazy dog .', 'The qoick bkown fox jumps over the la2y dog .']\n"
          ],
          "name": "stdout"
        }
      ]
    },
    {
      "cell_type": "code",
      "metadata": {
        "id": "fKQCpS35j9Ie",
        "colab_type": "code",
        "outputId": "67fb4742-6d18-4ee4-b109-f044af5918d6",
        "colab": {
          "base_uri": "https://localhost:8080/",
          "height": 86
        }
      },
      "source": [
        "#Keyboard Augmenter\n",
        "import nlpaug.augmenter.word as naw\n",
        "\n",
        "\n",
        "aug = nac.KeyboardAug()\n",
        "augmented_text = aug.augment(text, n=3) #specifying n=3 gives us only 3 augmented versions of the sentence.\n",
        "\n",
        "print(\"Original:\")\n",
        "print(text)\n",
        "\n",
        "print(\"Augmented Text:\")\n",
        "print(augmented_text)"
      ],
      "execution_count": 0,
      "outputs": [
        {
          "output_type": "stream",
          "text": [
            "Original:\n",
            "The quick brown fox jumps over the lazy dog .\n",
            "Augmented Text:\n",
            "['The quick brown fox jumps ofer the .azy dog .', 'The qHick vrown fox jumps ovwr the lazy dog .', 'The quick brKwn fox jumps over the lazT dog .']\n"
          ],
          "name": "stdout"
        }
      ]
    },
    {
      "cell_type": "markdown",
      "metadata": {
        "id": "XbfPMwZWmper",
        "colab_type": "text"
      },
      "source": [
        "There are other types of character augmenters too. Their details are avaiable in the links mentioned at the beginning of this notebook."
      ]
    },
    {
      "cell_type": "markdown",
      "metadata": {
        "id": "MufLJXsQm4i1",
        "colab_type": "text"
      },
      "source": [
        "### Augmentation at the Word Level"
      ]
    },
    {
      "cell_type": "code",
      "metadata": {
        "id": "gOHrgDIill2F",
        "colab_type": "code",
        "colab": {}
      },
      "source": [
        ""
      ],
      "execution_count": 0,
      "outputs": []
    }
  ]
}