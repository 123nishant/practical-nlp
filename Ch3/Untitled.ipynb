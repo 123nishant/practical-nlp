{
 "cells": [
  {
   "cell_type": "code",
   "execution_count": 6,
   "metadata": {},
   "outputs": [
    {
     "name": "stdout",
     "output_type": "stream",
     "text": [
      "Collecting tsne\n",
      "  Using cached tsne-0.3.0.tar.gz (547 kB)\n",
      "  Installing build dependencies ... \u001b[?25ldone\n",
      "\u001b[?25h  Getting requirements to build wheel ... \u001b[?25ldone\n",
      "\u001b[?25h    Preparing wheel metadata ... \u001b[?25ldone\n",
      "\u001b[?25hRequirement already satisfied: scipy>=0.12.0 in /home/etherealenvy/miniconda3/envs/practicalnlp/lib/python3.6/site-packages (from tsne) (1.4.1)\n",
      "Requirement already satisfied: numpy>=1.7.1 in /home/etherealenvy/miniconda3/envs/practicalnlp/lib/python3.6/site-packages (from tsne) (1.18.4)\n",
      "Collecting cython>=0.19.1\n",
      "  Using cached Cython-0.29.17-cp36-cp36m-manylinux1_x86_64.whl (2.1 MB)\n",
      "Building wheels for collected packages: tsne\n",
      "  Building wheel for tsne (PEP 517) ... \u001b[?25lerror\n",
      "\u001b[31m  ERROR: Command errored out with exit status 1:\n",
      "   command: /home/etherealenvy/miniconda3/envs/practicalnlp/bin/python /home/etherealenvy/miniconda3/envs/practicalnlp/lib/python3.6/site-packages/pip/_vendor/pep517/_in_process.py build_wheel /tmp/tmp09a0fv8c\n",
      "       cwd: /tmp/pip-install-soh3_7gf/tsne\n",
      "  Complete output (51 lines):\n",
      "  running bdist_wheel\n",
      "  running build\n",
      "  running build_py\n",
      "  creating build\n",
      "  creating build/lib.linux-x86_64-3.6\n",
      "  creating build/lib.linux-x86_64-3.6/tsne\n",
      "  copying tsne/_bh_sne.py -> build/lib.linux-x86_64-3.6/tsne\n",
      "  copying tsne/_generated_version.py -> build/lib.linux-x86_64-3.6/tsne\n",
      "  copying tsne/__init__.py -> build/lib.linux-x86_64-3.6/tsne\n",
      "  creating build/lib.linux-x86_64-3.6/tsne/tests\n",
      "  copying tsne/tests/test_seed.py -> build/lib.linux-x86_64-3.6/tsne/tests\n",
      "  copying tsne/tests/test_iris.py -> build/lib.linux-x86_64-3.6/tsne/tests\n",
      "  copying tsne/tests/__init__.py -> build/lib.linux-x86_64-3.6/tsne/tests\n",
      "  copying tsne/tests/test_import.py -> build/lib.linux-x86_64-3.6/tsne/tests\n",
      "  running egg_info\n",
      "  writing tsne.egg-info/PKG-INFO\n",
      "  writing dependency_links to tsne.egg-info/dependency_links.txt\n",
      "  writing requirements to tsne.egg-info/requires.txt\n",
      "  writing top-level names to tsne.egg-info/top_level.txt\n",
      "  reading manifest file 'tsne.egg-info/SOURCES.txt'\n",
      "  writing manifest file 'tsne.egg-info/SOURCES.txt'\n",
      "  copying tsne/bh_sne.pyx -> build/lib.linux-x86_64-3.6/tsne\n",
      "  creating build/lib.linux-x86_64-3.6/tsne/includes\n",
      "  creating build/lib.linux-x86_64-3.6/tsne/includes/bh_tsne\n",
      "  copying tsne/includes/bh_tsne/LICENSE -> build/lib.linux-x86_64-3.6/tsne/includes/bh_tsne\n",
      "  copying tsne/includes/bh_tsne/Readme.txt -> build/lib.linux-x86_64-3.6/tsne/includes/bh_tsne\n",
      "  copying tsne/includes/bh_tsne/compile_linux -> build/lib.linux-x86_64-3.6/tsne/includes/bh_tsne\n",
      "  copying tsne/includes/bh_tsne/compile_mac -> build/lib.linux-x86_64-3.6/tsne/includes/bh_tsne\n",
      "  copying tsne/includes/bh_tsne/fast_tsne.m -> build/lib.linux-x86_64-3.6/tsne/includes/bh_tsne\n",
      "  copying tsne/includes/bh_tsne/quadtree.cpp -> build/lib.linux-x86_64-3.6/tsne/includes/bh_tsne\n",
      "  copying tsne/includes/bh_tsne/quadtree.h -> build/lib.linux-x86_64-3.6/tsne/includes/bh_tsne\n",
      "  copying tsne/includes/bh_tsne/tsne.cpp -> build/lib.linux-x86_64-3.6/tsne/includes/bh_tsne\n",
      "  copying tsne/includes/bh_tsne/tsne.h -> build/lib.linux-x86_64-3.6/tsne/includes/bh_tsne\n",
      "  copying tsne/includes/bh_tsne/vptree.h -> build/lib.linux-x86_64-3.6/tsne/includes/bh_tsne\n",
      "  running build_ext\n",
      "  Running custom build_ext\n",
      "  cythoning tsne/bh_sne.pyx to tsne/bh_sne.cpp\n",
      "  building 'bh_sne' extension\n",
      "  creating build/temp.linux-x86_64-3.6\n",
      "  creating build/temp.linux-x86_64-3.6/tsne\n",
      "  creating build/temp.linux-x86_64-3.6/tsne/includes\n",
      "  creating build/temp.linux-x86_64-3.6/tsne/includes/bh_tsne\n",
      "  gcc -pthread -B /home/etherealenvy/miniconda3/envs/practicalnlp/compiler_compat -Wl,--sysroot=/ -Wsign-compare -DNDEBUG -g -fwrapv -O3 -Wall -Wstrict-prototypes -fPIC -I/usr/local/include -Itsne/includes/bh_tsne/ -I/tmp/pip-build-env-9_2dewy8/overlay/lib/python3.6/site-packages/numpy/core/include -I/home/etherealenvy/miniconda3/envs/practicalnlp/include/python3.6m -c tsne/includes/bh_tsne/quadtree.cpp -o build/temp.linux-x86_64-3.6/tsne/includes/bh_tsne/quadtree.o -msse2 -O3 -fPIC -w\n",
      "  cc1plus: warning: command line option ‘-Wstrict-prototypes’ is valid for C/ObjC but not for C++\n",
      "  tsne/includes/bh_tsne/quadtree.cpp:12:10: fatal error: cblas.h: No such file or directory\n",
      "   #include <cblas.h>\n",
      "            ^~~~~~~~~\n",
      "  compilation terminated.\n",
      "  /tmp/pip-build-env-9_2dewy8/overlay/lib/python3.6/site-packages/Cython/Compiler/Main.py:369: FutureWarning: Cython directive 'language_level' not set, using 2 for now (Py2). This will change in a later release! File: /tmp/pip-install-soh3_7gf/tsne/tsne/bh_sne.pyx\n",
      "    tree = Parsing.p_module(s, pxd, full_module_name)\n",
      "  error: command 'gcc' failed with exit status 1\n",
      "  ----------------------------------------\u001b[0m\n",
      "\u001b[31m  ERROR: Failed building wheel for tsne\u001b[0m\n",
      "\u001b[?25hFailed to build tsne\n",
      "\u001b[31mERROR: Could not build wheels for tsne which use PEP 517 and cannot be installed directly\u001b[0m\n"
     ]
    }
   ],
   "source": [
    "!pip3 install tsne"
   ]
  },
  {
   "cell_type": "code",
   "execution_count": 5,
   "metadata": {},
   "outputs": [
    {
     "ename": "ModuleNotFoundError",
     "evalue": "No module named 'tsne'",
     "output_type": "error",
     "traceback": [
      "\u001b[0;31m---------------------------------------------------------------------------\u001b[0m",
      "\u001b[0;31mModuleNotFoundError\u001b[0m                       Traceback (most recent call last)",
      "\u001b[0;32m<ipython-input-5-b9b2e6816273>\u001b[0m in \u001b[0;36m<module>\u001b[0;34m\u001b[0m\n\u001b[0;32m----> 1\u001b[0;31m \u001b[0;32mfrom\u001b[0m \u001b[0mtsne\u001b[0m \u001b[0;32mimport\u001b[0m \u001b[0mtsne\u001b[0m\u001b[0;34m\u001b[0m\u001b[0;34m\u001b[0m\u001b[0m\n\u001b[0m",
      "\u001b[0;31mModuleNotFoundError\u001b[0m: No module named 'tsne'"
     ]
    }
   ],
   "source": [
    "from tsne import tsne"
   ]
  },
  {
   "cell_type": "code",
   "execution_count": null,
   "metadata": {},
   "outputs": [],
   "source": []
  }
 ],
 "metadata": {
  "kernelspec": {
   "display_name": "Python 3",
   "language": "python",
   "name": "python3"
  },
  "language_info": {
   "codemirror_mode": {
    "name": "ipython",
    "version": 3
   },
   "file_extension": ".py",
   "mimetype": "text/x-python",
   "name": "python",
   "nbconvert_exporter": "python",
   "pygments_lexer": "ipython3",
   "version": "3.6.10"
  }
 },
 "nbformat": 4,
 "nbformat_minor": 4
}
