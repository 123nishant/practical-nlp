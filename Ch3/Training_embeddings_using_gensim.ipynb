{
  "nbformat": 4,
  "nbformat_minor": 0,
  "metadata": {
    "colab": {
      "name": "Training_embeddings_using_gensim.ipynb",
      "provenance": []
    },
    "kernelspec": {
      "name": "python3",
      "display_name": "Python 3"
    }
  },
  "cells": [
    {
      "cell_type": "markdown",
      "metadata": {
        "id": "2WGPwjhbbwPT",
        "colab_type": "text"
      },
      "source": [
        "## Training Embeddings Using Genism\n",
        "##### Word embeddings are an approach to representing text in NLP. In this notebook we will demonstrate how to train embeddings using Genism. [Gensim](https://radimrehurek.com/gensim/index.html) is an open source Python library for natural language processing, with a focus on topic modeling (explained in chapter 7)."
      ]
    },
    {
      "cell_type": "code",
      "metadata": {
        "id": "TBw9OCYcYQ_n",
        "colab_type": "code",
        "colab": {}
      },
      "source": [
        "from gensim.models import Word2Vec\n",
        "import warnings\n",
        "warnings.filterwarnings('ignore')\n"
      ],
      "execution_count": 0,
      "outputs": []
    },
    {
      "cell_type": "code",
      "metadata": {
        "id": "5qWptd54ZcfV",
        "colab_type": "code",
        "colab": {}
      },
      "source": [
        "# define training data\n",
        "#Genism word2vec requires that a format of ‘list of lists’ be provided for training where every document contained in a list.\n",
        "#Every list contains lists of tokens of that document.\n",
        "corpus = [['dog','bites','man'], [\"man\", \"bites\" ,\"dog\"],[\"dog\",\"eats\",\"meat\"],[\"man\", \"eats\",\"food\"]]\n",
        "\n",
        "#Training the model\n",
        "model_cbow = Word2Vec(corpus, min_count=1,sg=0) #using CBOW Architecture for trainnig\n",
        "model_skipgram = Word2Vec(corpus, min_count=1,sg=1)#using skipGram Architecture for training \n",
        "\n"
      ],
      "execution_count": 0,
      "outputs": []
    },
    {
      "cell_type": "markdown",
      "metadata": {
        "id": "0QjSxefPl4mh",
        "colab_type": "text"
      },
      "source": [
        "## Continuous Bag of Words (CBOW) \n",
        "##### In CBOW, the primary task is to build a language model that correctly predicts the center word given the context words in which the center word appears."
      ]
    },
    {
      "cell_type": "code",
      "metadata": {
        "id": "nyZY8ME4lUjd",
        "colab_type": "code",
        "colab": {
          "base_uri": "https://localhost:8080/",
          "height": 486
        },
        "outputId": "b3df38c5-d4f9-45ee-a6ce-2c45258e1a05"
      },
      "source": [
        "#Summarize the loaded model\n",
        "print(model_cbow)\n",
        "\n",
        "#Summarize vocabulary\n",
        "words = list(model_cbow.wv.vocab)\n",
        "print(words)\n",
        "\n",
        "#Acess vector for one word\n",
        "print(model_cbow['dog'])\n"
      ],
      "execution_count": 29,
      "outputs": [
        {
          "output_type": "stream",
          "text": [
            "Word2Vec(vocab=6, size=100, alpha=0.025)\n",
            "['dog', 'bites', 'man', 'eats', 'meat', 'food']\n",
            "[ 1.8636956e-03  2.4535074e-03  4.3623373e-03 -3.1415620e-03\n",
            " -3.8634820e-03  3.2356704e-05 -3.7326266e-03  2.3274277e-03\n",
            " -8.7320386e-04  2.9599380e-03  2.7632974e-03 -4.2401198e-03\n",
            "  1.5633155e-03 -8.4691070e-04 -1.1048439e-03 -1.4907877e-03\n",
            "  2.8470224e-03  1.1687911e-03 -8.2325342e-04  4.2131748e-03\n",
            "  3.5842666e-03 -4.8583136e-03 -3.7786432e-03  1.8674354e-03\n",
            " -1.3572449e-03 -2.8515710e-03 -3.1879877e-03  1.2325050e-03\n",
            "  1.9252286e-03 -2.1336856e-03  5.1382539e-04 -3.5386824e-03\n",
            "  3.3612479e-03 -4.2027882e-03 -1.3216434e-05  4.1396907e-03\n",
            " -2.0779634e-03  1.3280836e-03  2.7333535e-03  2.6307677e-04\n",
            "  2.3499376e-04  1.9200939e-03 -3.8520133e-03 -2.3576233e-03\n",
            " -4.4420473e-03  2.2383786e-03 -4.6484326e-03 -2.7595456e-03\n",
            "  4.0953648e-03 -1.6580598e-04 -3.6061259e-03 -3.1529986e-03\n",
            "  3.1407124e-03  1.9609181e-03 -1.1433997e-03 -2.9797696e-03\n",
            " -1.8910962e-03 -1.1299493e-04 -1.3544862e-03  3.5765002e-04\n",
            " -4.0293988e-03  2.9535848e-03 -5.5184885e-04 -2.5892605e-03\n",
            "  1.8308827e-03 -4.6228591e-04 -3.3891187e-03  3.4333004e-03\n",
            "  1.5500609e-03 -1.3209366e-03  1.9204129e-03  1.6360604e-03\n",
            " -9.1350114e-04 -4.5373929e-03  3.0820025e-03  4.2253773e-04\n",
            " -1.8654783e-03  2.5526050e-03 -1.4283847e-03 -7.4939971e-04\n",
            "  4.3363543e-03 -1.7235400e-04 -3.0979412e-03  4.3639862e-03\n",
            "  2.4806366e-03  1.6588748e-03 -2.3902785e-03 -4.9682991e-03\n",
            "  5.4951623e-04 -2.0557619e-03  3.7077258e-03 -2.1162708e-03\n",
            " -3.6369192e-03 -5.9844047e-04 -2.6809445e-03 -4.0439004e-03\n",
            " -2.2862453e-03 -2.7983715e-03 -2.3149727e-03  1.9963176e-03]\n"
          ],
          "name": "stdout"
        }
      ]
    },
    {
      "cell_type": "code",
      "metadata": {
        "id": "gMuHv52GeuoR",
        "colab_type": "code",
        "outputId": "594947ab-1077-4b62-ec55-955032430a0e",
        "colab": {
          "base_uri": "https://localhost:8080/",
          "height": 52
        }
      },
      "source": [
        "#Compute similarity \n",
        "print(\"Similarity between eats and bites:\",model_cbow.similarity('eats', 'bites'))\n",
        "print(\"Similarity between eats and man:\",model_cbow.similarity('eats', 'man'))\n"
      ],
      "execution_count": 30,
      "outputs": [
        {
          "output_type": "stream",
          "text": [
            "Similarity between eats and bites: 0.113624044\n",
            "Similarity between eats and man: 0.05556522\n"
          ],
          "name": "stdout"
        }
      ]
    },
    {
      "cell_type": "markdown",
      "metadata": {
        "id": "twhTZfPOezTU",
        "colab_type": "text"
      },
      "source": [
        "##### From the above similarity scores we can conclude that eats is more similar to bites than man."
      ]
    },
    {
      "cell_type": "code",
      "metadata": {
        "id": "5Lv0V7WofmsB",
        "colab_type": "code",
        "outputId": "c051a47f-ceb4-43a5-fe78-1a2ab26ed371",
        "colab": {
          "base_uri": "https://localhost:8080/",
          "height": 104
        }
      },
      "source": [
        "#Most similarity\n",
        "model_cbow.most_similar('meat')"
      ],
      "execution_count": 39,
      "outputs": [
        {
          "output_type": "execute_result",
          "data": {
            "text/plain": [
              "[('eats', 0.12531715631484985),\n",
              " ('food', 0.048376552760601044),\n",
              " ('bites', -0.015146855264902115),\n",
              " ('man', -0.058892399072647095),\n",
              " ('dog', -0.14050249755382538)]"
            ]
          },
          "metadata": {
            "tags": []
          },
          "execution_count": 39
        }
      ]
    },
    {
      "cell_type": "code",
      "metadata": {
        "id": "WA783nrSalgs",
        "colab_type": "code",
        "outputId": "f1a43014-cbae-4bd8-cc94-16d77126849e",
        "colab": {
          "base_uri": "https://localhost:8080/",
          "height": 34
        }
      },
      "source": [
        "# save model\n",
        "model_cbow.save('model_cbow.bin')\n",
        "\n",
        "# load model\n",
        "new_model_cbow = Word2Vec.load('model_cbow.bin')\n",
        "print(new_model_cbow)"
      ],
      "execution_count": 40,
      "outputs": [
        {
          "output_type": "stream",
          "text": [
            "Word2Vec(vocab=6, size=100, alpha=0.025)\n"
          ],
          "name": "stdout"
        }
      ]
    },
    {
      "cell_type": "markdown",
      "metadata": {
        "id": "deReLSI7mQyr",
        "colab_type": "text"
      },
      "source": [
        "##SkipGram"
      ]
    },
    {
      "cell_type": "code",
      "metadata": {
        "id": "9QtUtsLglvY0",
        "colab_type": "code",
        "colab": {
          "base_uri": "https://localhost:8080/",
          "height": 486
        },
        "outputId": "aaa981f4-a856-4f8d-bbf4-c672ab092a8d"
      },
      "source": [
        "#Summarize the loaded model\n",
        "print(model_skipgram)\n",
        "\n",
        "#Summarize vocabulary\n",
        "words = list(model_skipgram.wv.vocab)\n",
        "print(words)\n",
        "\n",
        "#Acess vector for one word\n",
        "print(model_skipgram['dog'])\n"
      ],
      "execution_count": 41,
      "outputs": [
        {
          "output_type": "stream",
          "text": [
            "Word2Vec(vocab=6, size=100, alpha=0.025)\n",
            "['dog', 'bites', 'man', 'eats', 'meat', 'food']\n",
            "[ 1.8636956e-03  2.4535074e-03  4.3623373e-03 -3.1415620e-03\n",
            " -3.8634820e-03  3.2356704e-05 -3.7326266e-03  2.3274277e-03\n",
            " -8.7320386e-04  2.9599380e-03  2.7632974e-03 -4.2401198e-03\n",
            "  1.5633155e-03 -8.4691070e-04 -1.1048439e-03 -1.4907877e-03\n",
            "  2.8470224e-03  1.1687911e-03 -8.2325342e-04  4.2131748e-03\n",
            "  3.5842666e-03 -4.8583136e-03 -3.7786432e-03  1.8674354e-03\n",
            " -1.3572449e-03 -2.8515710e-03 -3.1879877e-03  1.2325050e-03\n",
            "  1.9252286e-03 -2.1336856e-03  5.1382539e-04 -3.5386824e-03\n",
            "  3.3612479e-03 -4.2027882e-03 -1.3216434e-05  4.1396907e-03\n",
            " -2.0779634e-03  1.3280836e-03  2.7333535e-03  2.6307677e-04\n",
            "  2.3499376e-04  1.9200939e-03 -3.8520133e-03 -2.3576233e-03\n",
            " -4.4420473e-03  2.2383786e-03 -4.6484326e-03 -2.7595456e-03\n",
            "  4.0953648e-03 -1.6580598e-04 -3.6061259e-03 -3.1529986e-03\n",
            "  3.1407124e-03  1.9609181e-03 -1.1433997e-03 -2.9797696e-03\n",
            " -1.8910962e-03 -1.1299493e-04 -1.3544862e-03  3.5765002e-04\n",
            " -4.0293988e-03  2.9535848e-03 -5.5184885e-04 -2.5892605e-03\n",
            "  1.8308827e-03 -4.6228591e-04 -3.3891187e-03  3.4333004e-03\n",
            "  1.5500609e-03 -1.3209366e-03  1.9204129e-03  1.6360604e-03\n",
            " -9.1350114e-04 -4.5373929e-03  3.0820025e-03  4.2253773e-04\n",
            " -1.8654783e-03  2.5526050e-03 -1.4283847e-03 -7.4939971e-04\n",
            "  4.3363543e-03 -1.7235400e-04 -3.0979412e-03  4.3639862e-03\n",
            "  2.4806366e-03  1.6588748e-03 -2.3902785e-03 -4.9682991e-03\n",
            "  5.4951623e-04 -2.0557619e-03  3.7077258e-03 -2.1162708e-03\n",
            " -3.6369192e-03 -5.9844047e-04 -2.6809445e-03 -4.0439004e-03\n",
            " -2.2862453e-03 -2.7983715e-03 -2.3149727e-03  1.9963176e-03]\n"
          ],
          "name": "stdout"
        }
      ]
    },
    {
      "cell_type": "code",
      "metadata": {
        "id": "8YUsblEOfFWf",
        "colab_type": "code",
        "colab": {
          "base_uri": "https://localhost:8080/",
          "height": 52
        },
        "outputId": "5346629d-e4e1-4897-d256-333a9a0cadc1"
      },
      "source": [
        "#Compute similarity \n",
        "print(\"Similarity between eats and bites:\",model_skipgram.similarity('eats', 'bites'))\n",
        "print(\"Similarity between eats and man:\",model_skipgram.similarity('eats', 'man'))\n"
      ],
      "execution_count": 42,
      "outputs": [
        {
          "output_type": "stream",
          "text": [
            "Similarity between eats and bites: 0.11362622\n",
            "Similarity between eats and man: 0.055570077\n"
          ],
          "name": "stdout"
        }
      ]
    },
    {
      "cell_type": "markdown",
      "metadata": {
        "id": "gdXVDePKnBpv",
        "colab_type": "text"
      },
      "source": [
        "##### From the above similarity scores we can conclude that eats is more similar to bites than man."
      ]
    },
    {
      "cell_type": "code",
      "metadata": {
        "id": "lpF4qtwpmuM3",
        "colab_type": "code",
        "colab": {
          "base_uri": "https://localhost:8080/",
          "height": 104
        },
        "outputId": "9900d54c-2110-4ca1-c831-26a1e75b172c"
      },
      "source": [
        "#Most similarity\n",
        "model_skipgram.most_similar('meat')"
      ],
      "execution_count": 43,
      "outputs": [
        {
          "output_type": "execute_result",
          "data": {
            "text/plain": [
              "[('eats', 0.12524451315402985),\n",
              " ('food', 0.04837654158473015),\n",
              " ('bites', -0.015146857127547264),\n",
              " ('man', -0.058892399072647095),\n",
              " ('dog', -0.14050249755382538)]"
            ]
          },
          "metadata": {
            "tags": []
          },
          "execution_count": 43
        }
      ]
    },
    {
      "cell_type": "code",
      "metadata": {
        "id": "aNDCEXRTnAnj",
        "colab_type": "code",
        "colab": {
          "base_uri": "https://localhost:8080/",
          "height": 34
        },
        "outputId": "402f77b6-0625-4b37-e135-3650df626007"
      },
      "source": [
        "# save model\n",
        "model_skipgram.save('model_skipgram.bin')\n",
        "\n",
        "# load model\n",
        "new_model_skipgram = Word2Vec.load('model_skipgram.bin')\n",
        "print(model_skipgram)"
      ],
      "execution_count": 44,
      "outputs": [
        {
          "output_type": "stream",
          "text": [
            "Word2Vec(vocab=6, size=100, alpha=0.025)\n"
          ],
          "name": "stdout"
        }
      ]
    },
    {
      "cell_type": "code",
      "metadata": {
        "id": "DCaNWWgingYj",
        "colab_type": "code",
        "colab": {}
      },
      "source": [
        ""
      ],
      "execution_count": 0,
      "outputs": []
    }
  ]
}