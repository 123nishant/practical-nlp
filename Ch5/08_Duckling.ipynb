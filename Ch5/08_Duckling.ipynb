{
 "cells": [
  {
   "cell_type": "markdown",
   "metadata": {
    "colab_type": "text",
    "id": "9MiGmfrbNo9P"
   },
   "source": [
    "In this notebook we demonstrate Temporal IE using [duckling](https://github.com/FraBle/python-duckling), which is a python wrapper for wit.ai's [Duckling](https://github.com/facebookarchive/duckling_old) Clojure library."
   ]
  },
  {
   "cell_type": "code",
   "execution_count": 7,
   "metadata": {
    "colab": {
     "base_uri": "https://localhost:8080/",
     "height": 90
    },
    "colab_type": "code",
    "id": "kt0BWbCFMLP0",
    "outputId": "a0669798-63d5-4871-e539-db70a3cac257"
   },
   "outputs": [
    {
     "name": "stdout",
     "output_type": "stream",
     "text": [
      "Requirement already satisfied: duckling==1.8.0 in /usr/local/lib/python3.6/dist-packages (1.8.0)\n",
      "Requirement already satisfied: python-dateutil in /usr/local/lib/python3.6/dist-packages (from duckling==1.8.0) (2.8.1)\n",
      "Requirement already satisfied: JPype1 in /usr/local/lib/python3.6/dist-packages (from duckling==1.8.0) (0.7.4)\n",
      "Requirement already satisfied: six in /usr/local/lib/python3.6/dist-packages (from duckling==1.8.0) (1.12.0)\n"
     ]
    }
   ],
   "source": [
    "#installing the package\n",
    "!pip install duckling==1.8.0"
   ]
  },
  {
   "cell_type": "code",
   "execution_count": 0,
   "metadata": {
    "colab": {},
    "colab_type": "code",
    "id": "taFQDgC7NUOt"
   },
   "outputs": [],
   "source": [
    "from duckling import DucklingWrapper\n",
    "from pprint import pprint"
   ]
  },
  {
   "cell_type": "code",
   "execution_count": 0,
   "metadata": {
    "colab": {},
    "colab_type": "code",
    "id": "xDDNmWFQbFQF"
   },
   "outputs": [],
   "source": [
    "d = DucklingWrapper()"
   ]
  },
  {
   "cell_type": "markdown",
   "metadata": {
    "colab_type": "text",
    "id": "M8ZX3J0vz5ro"
   },
   "source": [
    "Extracting time from text\n"
   ]
  },
  {
   "cell_type": "code",
   "execution_count": 31,
   "metadata": {
    "colab": {
     "base_uri": "https://localhost:8080/",
     "height": 454
    },
    "colab_type": "code",
    "id": "anWMHSQAbHi-",
    "outputId": "2c9cec94-3999-4a00-ff97-519196c167e4"
   },
   "outputs": [
    {
     "name": "stdout",
     "output_type": "stream",
     "text": [
      "[{'dim': 'time',\n",
      "  'end': 21,\n",
      "  'start': 11,\n",
      "  'text': 'at 11:45am',\n",
      "  'value': {'grain': 'minute',\n",
      "            'others': [{'grain': 'minute', 'value': '2020-05-14T11:45:00.000Z'},\n",
      "                       {'grain': 'minute', 'value': '2020-05-15T11:45:00.000Z'},\n",
      "                       {'grain': 'minute',\n",
      "                        'value': '2020-05-16T11:45:00.000Z'}],\n",
      "            'value': '2020-05-14T11:45:00.000Z'}}]\n",
      "[{'dim': 'time',\n",
      "  'end': 45,\n",
      "  'start': 40,\n",
      "  'text': 'today',\n",
      "  'value': {'grain': 'day',\n",
      "            'others': [{'grain': 'day', 'value': '2020-05-13T00:00:00.000Z'}],\n",
      "            'value': '2020-05-13T00:00:00.000Z'}},\n",
      " {'dim': 'time',\n",
      "  'end': 17,\n",
      "  'start': 11,\n",
      "  'text': 'twenty',\n",
      "  'value': {'grain': 'year',\n",
      "            'others': [{'grain': 'year', 'value': '2020-01-01T00:00:00.000Z'}],\n",
      "            'value': '2020-01-01T00:00:00.000Z'}}]\n"
     ]
    }
   ],
   "source": [
    "pprint(d.parse_time(u'Let\\'s meet at 11:45am'))\n",
    "pprint(d.parse_time(u'You owe me twenty bucks, please call me today'))"
   ]
  },
  {
   "cell_type": "markdown",
   "metadata": {
    "colab_type": "text",
    "id": "mTiNsnoG0BaK"
   },
   "source": [
    "Extracting temperature from text"
   ]
  },
  {
   "cell_type": "code",
   "execution_count": 34,
   "metadata": {
    "colab": {
     "base_uri": "https://localhost:8080/",
     "height": 381
    },
    "colab_type": "code",
    "id": "_ab9_gzGbab2",
    "outputId": "c73db449-9527-46b3-f80b-f43887f54bdf"
   },
   "outputs": [
    {
     "name": "stdout",
     "output_type": "stream",
     "text": [
      "[{'dim': 'temperature',\n",
      "  'end': 65,\n",
      "  'start': 55,\n",
      "  'text': '65 degrees',\n",
      "  'value': {'unit': 'degree', 'value': 65.0}},\n",
      " {'dim': 'temperature',\n",
      "  'end': 51,\n",
      "  'start': 33,\n",
      "  'text': 'thirty two celsius',\n",
      "  'value': {'unit': 'celsius', 'value': 32.0}}]\n",
      "[{'dim': 'temperature',\n",
      "  'end': 97,\n",
      "  'start': 87,\n",
      "  'text': '37 degrees',\n",
      "  'value': {'unit': 'degree', 'value': 37.0}},\n",
      " {'dim': 'temperature',\n",
      "  'end': 76,\n",
      "  'start': 49,\n",
      "  'text': 'thirty-five degrees celcius',\n",
      "  'value': {'unit': 'celsius', 'value': 35.0}}]\n"
     ]
    }
   ],
   "source": [
    "pprint(d.parse_temperature(u'Let\\'s change the temperatur from thirty two celsius to 65 degrees'))\n",
    "pprint(d.parse_temperature(u\"It's getting hotter day by day, yesterday it was thirty-five degrees celcius today its 37 degrees \"))"
   ]
  },
  {
   "cell_type": "markdown",
   "metadata": {
    "colab_type": "text",
    "id": "MIhGr8sD0EaK"
   },
   "source": [
    "Extracting timezone from text"
   ]
  },
  {
   "cell_type": "code",
   "execution_count": 33,
   "metadata": {
    "colab": {
     "base_uri": "https://localhost:8080/",
     "height": 199
    },
    "colab_type": "code",
    "id": "n80DX6jLbncT",
    "outputId": "bc33984a-e691-4527-aabd-9728ce934c82"
   },
   "outputs": [
    {
     "name": "stdout",
     "output_type": "stream",
     "text": [
      "[{'dim': 'timezone',\n",
      "  'end': 22,\n",
      "  'start': 19,\n",
      "  'text': 'IST',\n",
      "  'value': {'value': 'IST'}}]\n",
      "[{'dim': 'timezone',\n",
      "  'end': 23,\n",
      "  'start': 20,\n",
      "  'text': 'EST',\n",
      "  'value': {'value': 'EST'}}]\n"
     ]
    }
   ],
   "source": [
    "pprint(d.parse_timezone(u\"Let's meet at 10pm IST\"))\n",
    "pprint(d.parse_timezone(u\"Let's meet at 22:00 EST\"))"
   ]
  },
  {
   "cell_type": "markdown",
   "metadata": {
    "colab_type": "text",
    "id": "namYN2uV03r-"
   },
   "source": [
    "Extracting number from text"
   ]
  },
  {
   "cell_type": "code",
   "execution_count": 17,
   "metadata": {
    "colab": {
     "base_uri": "https://localhost:8080/",
     "height": 108
    },
    "colab_type": "code",
    "id": "TPUGDEUocLou",
    "outputId": "02803174-7854-4036-ee90-3fbe68ec334f"
   },
   "outputs": [
    {
     "data": {
      "text/plain": [
       "[{'dim': 'number',\n",
       "  'end': 13,\n",
       "  'start': 11,\n",
       "  'text': '20',\n",
       "  'value': {'value': 20.0}}]"
      ]
     },
     "execution_count": 17,
     "metadata": {
      "tags": []
     },
     "output_type": "execute_result"
    }
   ],
   "source": [
    "d.parse_number(u\"Hey i am a 20 year old student from Alaska\")"
   ]
  },
  {
   "cell_type": "markdown",
   "metadata": {
    "colab_type": "text",
    "id": "O-5RYo3j07Rc"
   },
   "source": [
    "Extracting ordinals from text"
   ]
  },
  {
   "cell_type": "code",
   "execution_count": 18,
   "metadata": {
    "colab": {
     "base_uri": "https://localhost:8080/",
     "height": 199
    },
    "colab_type": "code",
    "id": "N-lovNRKcUPA",
    "outputId": "41ebd328-9a7e-4aeb-e613-94d52bfd4d72"
   },
   "outputs": [
    {
     "data": {
      "text/plain": [
       "[{'dim': 'ordinal',\n",
       "  'end': 10,\n",
       "  'start': 7,\n",
       "  'text': '2nd',\n",
       "  'value': {'value': 2}},\n",
       " {'dim': 'ordinal',\n",
       "  'end': 25,\n",
       "  'start': 22,\n",
       "  'text': '1st',\n",
       "  'value': {'value': 1}}]"
      ]
     },
     "execution_count": 18,
     "metadata": {
      "tags": []
     },
     "output_type": "execute_result"
    }
   ],
   "source": [
    "d.parse_ordinal(u\"I came 2nd and u came 1st in a race\")"
   ]
  },
  {
   "cell_type": "markdown",
   "metadata": {
    "colab_type": "text",
    "id": "dyNu2zVG0_lN"
   },
   "source": [
    "Extracting currency and value from text"
   ]
  },
  {
   "cell_type": "code",
   "execution_count": 22,
   "metadata": {
    "colab": {
     "base_uri": "https://localhost:8080/",
     "height": 108
    },
    "colab_type": "code",
    "id": "RvEkCiBxcta4",
    "outputId": "79adfbbf-9690-4bf5-c899-25915f1b0f57"
   },
   "outputs": [
    {
     "data": {
      "text/plain": [
       "[{'dim': 'amount-of-money',\n",
       "  'end': 18,\n",
       "  'start': 16,\n",
       "  'text': '3$',\n",
       "  'value': {'unit': '$', 'value': 3.0}}]"
      ]
     },
     "execution_count": 22,
     "metadata": {
      "tags": []
     },
     "output_type": "execute_result"
    }
   ],
   "source": [
    "d.parse_money(u\"This meal costs 3$\")"
   ]
  },
  {
   "cell_type": "markdown",
   "metadata": {
    "colab_type": "text",
    "id": "TtzDTHoy1GG2"
   },
   "source": [
    "Extracting email ids from text"
   ]
  },
  {
   "cell_type": "code",
   "execution_count": 23,
   "metadata": {
    "colab": {
     "base_uri": "https://localhost:8080/",
     "height": 108
    },
    "colab_type": "code",
    "id": "HJG0t9Iyc1rI",
    "outputId": "61465e7f-a4c8-4890-f70a-a8cc1c149763"
   },
   "outputs": [
    {
     "data": {
      "text/plain": [
       "[{'dim': 'email',\n",
       "  'end': 28,\n",
       "  'start': 12,\n",
       "  'text': 'abcxyz@gmail.com',\n",
       "  'value': {'value': 'abcxyz@gmail.com'}}]"
      ]
     },
     "execution_count": 23,
     "metadata": {
      "tags": []
     },
     "output_type": "execute_result"
    }
   ],
   "source": [
    "d.parse_email(u\"my email is abcxyz@gmail.com\")"
   ]
  },
  {
   "cell_type": "markdown",
   "metadata": {
    "colab_type": "text",
    "id": "ixVmrKBw1NPx"
   },
   "source": [
    "Extracting the durations in a text"
   ]
  },
  {
   "cell_type": "code",
   "execution_count": 28,
   "metadata": {
    "colab": {
     "base_uri": "https://localhost:8080/",
     "height": 454
    },
    "colab_type": "code",
    "id": "DxmmN78bdHqK",
    "outputId": "0f226807-215a-4a55-ad7e-2cd680bb4184"
   },
   "outputs": [
    {
     "data": {
      "text/plain": [
       "[{'dim': 'duration',\n",
       "  'end': 45,\n",
       "  'start': 40,\n",
       "  'text': '4 hrs',\n",
       "  'value': {'day': None,\n",
       "   'hour': 4,\n",
       "   'minute': None,\n",
       "   'month': None,\n",
       "   'second': None,\n",
       "   'unit': 'hour',\n",
       "   'value': 4.0,\n",
       "   'year': None}},\n",
       " {'dim': 'duration',\n",
       "  'end': 76,\n",
       "  'start': 69,\n",
       "  'text': '2 years',\n",
       "  'value': {'day': None,\n",
       "   'hour': None,\n",
       "   'minute': None,\n",
       "   'month': None,\n",
       "   'second': None,\n",
       "   'unit': 'year',\n",
       "   'value': 2.0,\n",
       "   'year': 2}}]"
      ]
     },
     "execution_count": 28,
     "metadata": {
      "tags": []
     },
     "output_type": "execute_result"
    }
   ],
   "source": [
    "d.parse_duration(u\"I have been working on this project for 4 hrs every month for almost 2 years.\")"
   ]
  },
  {
   "cell_type": "markdown",
   "metadata": {
    "colab_type": "text",
    "id": "ktDtLHCY1y_f"
   },
   "source": [
    "Extracting urls from text"
   ]
  },
  {
   "cell_type": "code",
   "execution_count": 36,
   "metadata": {
    "colab": {
     "base_uri": "https://localhost:8080/",
     "height": 199
    },
    "colab_type": "code",
    "id": "HEBKT4BT11sb",
    "outputId": "88e74b0d-5c58-4be8-972f-205deaede893"
   },
   "outputs": [
    {
     "data": {
      "text/plain": [
       "[{'dim': 'url',\n",
       "  'end': 78,\n",
       "  'start': 51,\n",
       "  'text': 'http://www.practicalnlp.ai/',\n",
       "  'value': {'value': 'http://www.practicalnlp.ai/'}},\n",
       " {'dim': 'url',\n",
       "  'end': 78,\n",
       "  'start': 51,\n",
       "  'text': 'http://www.practicalnlp.ai/',\n",
       "  'value': {'value': 'http://www.practicalnlp.ai/'}}]"
      ]
     },
     "execution_count": 36,
     "metadata": {
      "tags": []
     },
     "output_type": "execute_result"
    }
   ],
   "source": [
    "d.parse_url(u\"The official website for the book Practical NLP is http://www.practicalnlp.ai/\")"
   ]
  },
  {
   "cell_type": "markdown",
   "metadata": {
    "colab_type": "text",
    "id": "k0Ox-vvV2K7I"
   },
   "source": [
    "Extracting phone numbers from text"
   ]
  },
  {
   "cell_type": "code",
   "execution_count": 37,
   "metadata": {
    "colab": {
     "base_uri": "https://localhost:8080/",
     "height": 35
    },
    "colab_type": "code",
    "id": "gSRr-ae52Ryd",
    "outputId": "fa229777-ad1f-4f0f-93f4-86e299221a00"
   },
   "outputs": [
    {
     "data": {
      "text/plain": [
       "[]"
      ]
     },
     "execution_count": 37,
     "metadata": {
      "tags": []
     },
     "output_type": "execute_result"
    }
   ],
   "source": [
    "d.parse_phone_number(u\"Enter text here\")#didnt demo this due to privacy reasons"
   ]
  },
  {
   "cell_type": "markdown",
   "metadata": {
    "colab_type": "text",
    "id": "xCOEyk_u1Rq-"
   },
   "source": [
    "Generally, a good idea would be to make a pipeline of all of these functions or which ever you require according to your use case."
   ]
  },
  {
   "cell_type": "code",
   "execution_count": 0,
   "metadata": {
    "colab": {},
    "colab_type": "code",
    "id": "K_AV5damdQMK"
   },
   "outputs": [],
   "source": []
  }
 ],
 "metadata": {
  "colab": {
   "name": "Duckling.ipynb",
   "provenance": []
  },
  "kernelspec": {
   "display_name": "Python 3",
   "name": "python3"
  }
 },
 "nbformat": 4,
 "nbformat_minor": 1
}
