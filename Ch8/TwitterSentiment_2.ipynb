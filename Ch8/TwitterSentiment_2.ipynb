{
 "cells": [
  {
   "cell_type": "code",
   "execution_count": 6,
   "metadata": {},
   "outputs": [],
   "source": [
    "import os\n",
    "import sys\n",
    "\n",
    "preprocessing_path = \"/home/etherealenvy/Downloads/practical-nlp/Ch8/)5_smtd_preprocessing.py\"\n",
    "sys.path.append(os.path.abspath(preprocessing_path))\n",
    "\n",
    "import O5_smtd_preprocessing\n",
    "\n",
    "\n",
    "import pandas as pd\n",
    "from gensim.models import Word2Vec\n",
    "import warnings\n",
    "warnings.filterwarnings('ignore')\n",
    "\n",
    "from nltk.tokenize import TweetTokenizer\n",
    "tweet_tokenizer = TweetTokenizer()\n"
   ]
  },
  {
   "cell_type": "code",
   "execution_count": null,
   "metadata": {},
   "outputs": [
    {
     "data": {
      "text/html": [
       "<div>\n",
       "<style scoped>\n",
       "    .dataframe tbody tr th:only-of-type {\n",
       "        vertical-align: middle;\n",
       "    }\n",
       "\n",
       "    .dataframe tbody tr th {\n",
       "        vertical-align: top;\n",
       "    }\n",
       "\n",
       "    .dataframe thead th {\n",
       "        text-align: right;\n",
       "    }\n",
       "</style>\n",
       "<table border=\"1\" class=\"dataframe\">\n",
       "  <thead>\n",
       "    <tr style=\"text-align: right;\">\n",
       "      <th></th>\n",
       "      <th>polarity</th>\n",
       "      <th>tweet</th>\n",
       "      <th>tokenized tweet</th>\n",
       "    </tr>\n",
       "  </thead>\n",
       "  <tbody>\n",
       "    <tr>\n",
       "      <th>0</th>\n",
       "      <td>0</td>\n",
       "      <td>the angel is going to miss the athlete this we...</td>\n",
       "      <td>[the, angel, is, going, to, miss, the, athlete...</td>\n",
       "    </tr>\n",
       "    <tr>\n",
       "      <th>1</th>\n",
       "      <td>0</td>\n",
       "      <td>it looks as though shaq is getting traded to c...</td>\n",
       "      <td>[it, looks, as, though, shaq, is, getting, tra...</td>\n",
       "    </tr>\n",
       "    <tr>\n",
       "      <th>2</th>\n",
       "      <td>0</td>\n",
       "      <td>constantnonbrandmention constantdate isn't com...</td>\n",
       "      <td>[constantnonbrandmention, constantdate, isn't,...</td>\n",
       "    </tr>\n",
       "    <tr>\n",
       "      <th>3</th>\n",
       "      <td>0</td>\n",
       "      <td>drinking a mcdonalds coffee and not understand...</td>\n",
       "      <td>[drinking, a, mcdonalds, coffee, and, not, und...</td>\n",
       "    </tr>\n",
       "    <tr>\n",
       "      <th>4</th>\n",
       "      <td>0</td>\n",
       "      <td>so dissapointed taylor swift doesnt have a twi...</td>\n",
       "      <td>[so, dissapointed, taylor, swift, doesnt, have...</td>\n",
       "    </tr>\n",
       "  </tbody>\n",
       "</table>\n",
       "</div>"
      ],
      "text/plain": [
       "   polarity                                              tweet  \\\n",
       "0         0  the angel is going to miss the athlete this we...   \n",
       "1         0  it looks as though shaq is getting traded to c...   \n",
       "2         0  constantnonbrandmention constantdate isn't com...   \n",
       "3         0  drinking a mcdonalds coffee and not understand...   \n",
       "4         0  so dissapointed taylor swift doesnt have a twi...   \n",
       "\n",
       "                                     tokenized tweet  \n",
       "0  [the, angel, is, going, to, miss, the, athlete...  \n",
       "1  [it, looks, as, though, shaq, is, getting, tra...  \n",
       "2  [constantnonbrandmention, constantdate, isn't,...  \n",
       "3  [drinking, a, mcdonalds, coffee, and, not, und...  \n",
       "4  [so, dissapointed, taylor, swift, doesnt, have...  "
      ]
     },
     "metadata": {},
     "output_type": "display_data"
    }
   ],
   "source": [
    "# datapath = \"Path to 'sts_gold_tweet.csv' \"\n",
    "# df = pd.read_csv(datapath,error_bad_lines=False,delimiter=\";\")\n",
    "\n",
    "# df.drop(columns=['id'], inplace=True)\n",
    "display(df.head())\n",
    "\n",
    "#pre-process tweets using our package\n",
    "#pre-process tweets using our package\n",
    "df['tweet'] = df['tweet'].apply(lambda x: O5_smtd_preprocessing.process_TweetText(x))\n",
    "df['tweet'] = df['tweet'].apply(lambda x: tweet_tokenizer.tokenize(x))\n",
    "\n",
    "tweets_processed = df['tweet'].values\n",
    "tweets_cat = df['polarity'].values\n",
    "\n",
    "display(df.head())\n",
    "display(len(tweets_processed), len(tweets_cat))\n",
    "display(tweets_cat[0],tweets_processed[0])"
   ]
  },
  {
   "cell_type": "code",
   "execution_count": null,
   "metadata": {},
   "outputs": [],
   "source": [
    "#CBOW\n",
    "import time\n",
    "start = time.time()\n",
    "word2vec_tweet = Word2Vec(tweets,min_count=5, sg=0)\n",
    "end = time.time()\n",
    "\n",
    "print(\"CBOW Model Training Complete.\\nTime taken for training is:{:.5f} sec \".format((end-start)))"
   ]
  }
 ],
 "metadata": {
  "kernelspec": {
   "display_name": "Python 3",
   "language": "python",
   "name": "python3"
  },
  "language_info": {
   "codemirror_mode": {
    "name": "ipython",
    "version": 3
   },
   "file_extension": ".py",
   "mimetype": "text/x-python",
   "name": "python",
   "nbconvert_exporter": "python",
   "pygments_lexer": "ipython3",
   "version": "3.6.10"
  }
 },
 "nbformat": 4,
 "nbformat_minor": 4
}
